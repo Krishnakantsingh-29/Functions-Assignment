{
  "nbformat": 4,
  "nbformat_minor": 0,
  "metadata": {
    "colab": {
      "provenance": []
    },
    "kernelspec": {
      "name": "python3",
      "display_name": "Python 3"
    },
    "language_info": {
      "name": "python"
    }
  },
  "cells": [
    {
      "cell_type": "markdown",
      "source": [
        "**FUNCTIONS Assignment :**"
      ],
      "metadata": {
        "id": "r8ZsH8iR1uNj"
      }
    },
    {
      "cell_type": "markdown",
      "source": [
        "**Practical Questions -**"
      ],
      "metadata": {
        "id": "-GW-ucCM358K"
      }
    },
    {
      "cell_type": "markdown",
      "source": [
        "Q.1 -  Write a Python function that takes a list of numbers as input and returns the sum of all even numbers in\n",
        "the list ?"
      ],
      "metadata": {
        "id": "b6Aau80W12vR"
      }
    },
    {
      "cell_type": "code",
      "source": [
        "def sum_even(lst):\n",
        "    return sum(num for num in lst if num % 2 == 0)"
      ],
      "metadata": {
        "id": "W-7VX43e16We"
      },
      "execution_count": null,
      "outputs": []
    },
    {
      "cell_type": "markdown",
      "source": [
        "Q.2 - Create a Python function that accepts a string and returns the reverse of that string ?"
      ],
      "metadata": {
        "id": "njPa6Rr62Ixz"
      }
    },
    {
      "cell_type": "code",
      "source": [
        "def reverse_string(s):\n",
        "    return s[::-1]"
      ],
      "metadata": {
        "id": "UG3LpAjY2P2F"
      },
      "execution_count": null,
      "outputs": []
    },
    {
      "cell_type": "markdown",
      "source": [
        "Q.3-  Implement a Python function that takes a list of integers and returns a new list containing the squares of\n",
        "each number ?"
      ],
      "metadata": {
        "id": "GooUln7t2QcB"
      }
    },
    {
      "cell_type": "code",
      "source": [
        "def square_list(lst):\n",
        "    return [x**2 for x in lst]"
      ],
      "metadata": {
        "id": "ZU3Cx6T-2V9a"
      },
      "execution_count": null,
      "outputs": []
    },
    {
      "cell_type": "markdown",
      "source": [
        "Q.4 -  Write a Python function that checks if a given number is prime or not from 1 to 200 ?"
      ],
      "metadata": {
        "id": "Rs5fzqPs2WiI"
      }
    },
    {
      "cell_type": "code",
      "source": [
        "def is_prime(n):\n",
        "    if n < 2:\n",
        "        return False\n",
        "    for i in range(2, int(n**0.5)+1):\n",
        "        if n % i == 0:\n",
        "            return False\n",
        "    return True\n",
        "\n",
        "for i in range(1, 201):\n",
        "    if is_prime(i):\n",
        "        print(i, end=' ')"
      ],
      "metadata": {
        "colab": {
          "base_uri": "https://localhost:8080/"
        },
        "id": "Qt40gk2x2amg",
        "outputId": "8c875890-5729-4f60-edd4-bd7b5e04bd49"
      },
      "execution_count": null,
      "outputs": [
        {
          "output_type": "stream",
          "name": "stdout",
          "text": [
            "2 3 5 7 11 13 17 19 23 29 31 37 41 43 47 53 59 61 67 71 73 79 83 89 97 101 103 107 109 113 127 131 137 139 149 151 157 163 167 173 179 181 191 193 197 199 "
          ]
        }
      ]
    },
    {
      "cell_type": "markdown",
      "source": [
        "Q.5 - Create an iterator class in Python that generates the Fibonacci sequence up to a specified number of\n",
        "terms."
      ],
      "metadata": {
        "id": "U_9_HEnW2cUG"
      }
    },
    {
      "cell_type": "code",
      "source": [
        "class Fibonacci:\n",
        "    def __init__(self, limit):\n",
        "        self.limit = limit\n",
        "        self.a, self.b = 0, 1\n",
        "        self.count = 0\n",
        "\n",
        "    def __iter__(self):\n",
        "        return self\n",
        "\n",
        "    def __next__(self):\n",
        "        if self.count < self.limit:\n",
        "            val = self.a\n",
        "            self.a, self.b = self.b, self.a + self.b\n",
        "            self.count += 1\n",
        "            return val\n",
        "        else:\n",
        "            raise StopIteration"
      ],
      "metadata": {
        "id": "qa2v4cdB2lc5"
      },
      "execution_count": null,
      "outputs": []
    },
    {
      "cell_type": "markdown",
      "source": [
        "Q.6 -  Write a generator function in Python that yields the powers of 2 up to a given exponent ?"
      ],
      "metadata": {
        "id": "QB3-qQck2l5z"
      }
    },
    {
      "cell_type": "code",
      "source": [
        "def power_of_two(n):\n",
        "    for i in range(n+1):\n",
        "        yield 2 ** i"
      ],
      "metadata": {
        "id": "p2pHTVUv2rRQ"
      },
      "execution_count": null,
      "outputs": []
    },
    {
      "cell_type": "markdown",
      "source": [
        "Q.7 -  Implement a generator function that reads a file line by line and yields each line as a string ?"
      ],
      "metadata": {
        "id": "E7qRxMW_2rvN"
      }
    },
    {
      "cell_type": "code",
      "source": [
        "def read_lines(filename):\n",
        "    with open(filename) as f:\n",
        "        for line in f:\n",
        "            yield line.strip()"
      ],
      "metadata": {
        "id": "F42f_A1h2wTm"
      },
      "execution_count": null,
      "outputs": []
    },
    {
      "cell_type": "markdown",
      "source": [
        "Q.8 - Use a lambda function in Python to sort a list of tuples based on the second element of each tuple ?"
      ],
      "metadata": {
        "id": "ayeSTIQ_2wtH"
      }
    },
    {
      "cell_type": "code",
      "source": [
        "lst = [(1, 3), (2, 1), (5, 2)]\n",
        "sorted_lst = sorted(lst, key=lambda x: x[1])\n",
        "print(sorted_lst)"
      ],
      "metadata": {
        "colab": {
          "base_uri": "https://localhost:8080/"
        },
        "id": "wcl3G06921pK",
        "outputId": "56a737c2-ec13-4e21-ece8-e0f1ce68ba95"
      },
      "execution_count": null,
      "outputs": [
        {
          "output_type": "stream",
          "name": "stdout",
          "text": [
            "[(2, 1), (5, 2), (1, 3)]\n"
          ]
        }
      ]
    },
    {
      "cell_type": "markdown",
      "source": [
        "Q.9 -  Write a Python program that uses `map()` to convert a list of temperatures from Celsius to Fahrenheit ?"
      ],
      "metadata": {
        "id": "DvK3YMYp22Gq"
      }
    },
    {
      "cell_type": "code",
      "source": [
        "celsius = [0, 20, 30]\n",
        "fahrenheit = list(map(lambda c: (c * 9/5) + 32, celsius))\n",
        "print(fahrenheit)"
      ],
      "metadata": {
        "colab": {
          "base_uri": "https://localhost:8080/"
        },
        "id": "cDciKVhl26fl",
        "outputId": "e0c19003-456c-4ba3-c756-7b0ef7032797"
      },
      "execution_count": null,
      "outputs": [
        {
          "output_type": "stream",
          "name": "stdout",
          "text": [
            "[32.0, 68.0, 86.0]\n"
          ]
        }
      ]
    },
    {
      "cell_type": "markdown",
      "source": [
        "Q.10 - Create a Python program that uses `filter()` to remove all the vowels from a given string ?"
      ],
      "metadata": {
        "id": "NIs-IUj-264W"
      }
    },
    {
      "cell_type": "code",
      "source": [
        "s = \"hello world\"\n",
        "no_vowels = ''.join(filter(lambda x: x.lower() not in 'aeiou', s))\n",
        "print(no_vowels)"
      ],
      "metadata": {
        "colab": {
          "base_uri": "https://localhost:8080/"
        },
        "id": "GR9M2qag2-fQ",
        "outputId": "6548427d-c364-4df5-9a51-831700a50d50"
      },
      "execution_count": null,
      "outputs": [
        {
          "output_type": "stream",
          "name": "stdout",
          "text": [
            "hll wrld\n"
          ]
        }
      ]
    },
    {
      "cell_type": "markdown",
      "source": [
        "Q.11 - Imagine an accounting routine used in a book shop. It works on a list with sublists, which look like this:"
      ],
      "metadata": {
        "id": "GDeHu6uK3BTb"
      }
    },
    {
      "cell_type": "code",
      "source": [
        "orders = [\n",
        "    [34587, \"Learning Python\", 4, 40.95],\n",
        "    [98762, \"Python Cookbook\", 1, 17.85],\n",
        "    [77226, \"The Complete Python\", 3, 39.95],\n",
        "    [88112, \"Python Machine Learning\", 2, 45.50]\n",
        "]\n",
        "\n",
        "result = list(map(lambda order: (\n",
        "    order[0],\n",
        "    order[2] * order[3] + 10 if order[2] * order[3] < 100 else order[2] * order[3]\n",
        "), orders))\n",
        "\n",
        "print(result)"
      ],
      "metadata": {
        "colab": {
          "base_uri": "https://localhost:8080/"
        },
        "id": "r3iK9cb23DI5",
        "outputId": "59651f6f-1b27-41ba-f4f0-0c7beaf76ba0"
      },
      "execution_count": null,
      "outputs": [
        {
          "output_type": "stream",
          "name": "stdout",
          "text": [
            "[(34587, 163.8), (98762, 27.85), (77226, 119.85000000000001), (88112, 101.0)]\n"
          ]
        }
      ]
    }
  ]
}